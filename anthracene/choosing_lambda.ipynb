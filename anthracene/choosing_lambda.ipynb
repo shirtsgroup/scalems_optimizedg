{
 "cells": [
  {
   "cell_type": "code",
   "execution_count": 243,
   "id": "dede6006-cc10-454b-add5-12ac41c4b069",
   "metadata": {},
   "outputs": [],
   "source": [
    "import numpy as np\n",
    "import matplotlib.pyplot as plt\n",
    "import scipy\n",
    "import pdb"
   ]
  },
  {
   "cell_type": "markdown",
   "id": "d90b5a2f-1cb5-422a-80ed-50e06efbae50",
   "metadata": {},
   "source": [
    "It's easiest to do with TI. Assume we have uncertainties at each point.  So we will have a standard deviation in dhdl at each of $k$ lambda points. "
   ]
  },
  {
   "cell_type": "code",
   "execution_count": 244,
   "id": "3e23accd-d648-4624-98a0-7e22b5605479",
   "metadata": {},
   "outputs": [],
   "source": [
    "nlam = 11  # initial number of lambda\n",
    "ninit = 10000  # initial number of samples\n",
    "lambdas = np.linspace(0,1,nlam) # initial lambdas\n",
    "stdev = np.array([0.01,0.02,0.03,0.04,0.05,0.08,0.1,0.16,0.15,0.10,0.06])  # initial uncertainties after one run\n",
    "nsamples = ninit*np.ones(nlam)"
   ]
  },
  {
   "cell_type": "markdown",
   "id": "8b694c2f-af73-4b0e-9175-f77e1f1d910d",
   "metadata": {},
   "source": [
    "If we are missing some of the data, we can just spline without it, and if we are missing edges, we set them equal to the neighbors.  That is a very rough but reasonable guess to start with, we will get better soon. "
   ]
  },
  {
   "cell_type": "markdown",
   "id": "e02cc297-d6a2-4fad-bbe0-d0c4a28ae00c",
   "metadata": {},
   "source": [
    "Approximate $\\sigma^2n$ as a function of $\\lambda$, and fit a spline."
   ]
  },
  {
   "cell_type": "code",
   "execution_count": 245,
   "id": "c02b1e19-84ad-4a47-b885-06786ce1ef14",
   "metadata": {},
   "outputs": [],
   "source": [
    "fit_var = scipy.interpolate.CubicSpline(lambdas,nsamples*(stdev**2))"
   ]
  },
  {
   "cell_type": "code",
   "execution_count": 246,
   "id": "7d7826cc-6739-409e-af48-c47aeff5bc93",
   "metadata": {},
   "outputs": [],
   "source": [
    "spacings = np.linspace(0,1,50*nlam)"
   ]
  },
  {
   "cell_type": "code",
   "execution_count": 247,
   "id": "1cd12d1c-f47c-4286-a354-de2dc49919d2",
   "metadata": {},
   "outputs": [
    {
     "data": {
      "image/png": "[encoded data removed]",
      "text/plain": [
       "<Figure size 640x480 with 1 Axes>"
      ]
     },
     "metadata": {},
     "output_type": "display_data"
    }
   ],
   "source": [
    "plt.plot(spacings,fit_var(spacings))\n",
    "plt.plot(lambdas,nsamples*stdev**2,\"s\")\n",
    "plt.show()"
   ]
  },
  {
   "cell_type": "code",
   "execution_count": null,
   "id": "fb4a9621-d756-4544-8645-87fff7fb9708",
   "metadata": {},
   "outputs": [],
   "source": [
    "  "
   ]
  },
  {
   "cell_type": "markdown",
   "id": "17a137da-4f29-4471-9501-84fe9e4c6b88",
   "metadata": {},
   "source": [
    "The total variance will be $\\sum_i \\frac{var(\\lambda_i) w_{\\lambda}^2}{n_i} $, so we want to decide the locations of the $n$ simulations that will minimize the total variance. \n",
    "\n",
    "Figuring out $w_{\\lambda}$ is a little hard when we have uneven spacings, we'll just do it as the difference between consecutive lambdas, $\\lambda_{i+1} - \\lambda_i$, averaged at each $i$."
   ]
  },
  {
   "cell_type": "code",
   "execution_count": 262,
   "id": "bacb9e2b-32b2-42a4-9322-5d8b3a982465",
   "metadata": {},
   "outputs": [],
   "source": [
    "def expected_variance(nsamps,lambdas,varfunc,components=False):\n",
    "    pdb.set_trace()\n",
    "    nonzero_locs = (nsamps!=0)\n",
    "    dlambda = np.diff(lambdas[nonzero_locs])\n",
    "    wlambda = np.zeros(len(dlambda)+1)\n",
    "    wlambda[1:] += dlambda\n",
    "    wlambda[:-1] += dlambda\n",
    "    wlambda *= 0.5\n",
    "    #print(wlambda,np.sum(wlambda))\n",
    "    #print(varfunc(lambdas[nonzero_locs])*(wlambda/nsamps[nonzero_locs]))\n",
    "    vals = varfunc(lambdas[nonzero_locs])*(wlambda**2/nsamps[nonzero_locs])\n",
    "    vsum = np.sum(vals)\n",
    "    if components==False:\n",
    "        return vsum\n",
    "    else:\n",
    "        return vsum,vals"
   ]
  },
  {
   "cell_type": "markdown",
   "id": "dac177e5-eb6a-4c70-800f-ad2c3be3eb74",
   "metadata": {},
   "source": [
    "If we just had to run one simulation, this would be easy, as we find the location that minizes the variance.  But we need to iteratively find where to put them."
   ]
  },
  {
   "cell_type": "code",
   "execution_count": 253,
   "id": "307b5028-5e46-46bf-bb2d-4a45fe2d50d8",
   "metadata": {},
   "outputs": [],
   "source": [
    "# initially we have ninit points at all locations.\n",
    "ntotal = 101\n",
    "lamall = np.linspace(0,1,ntotal)\n",
    "nall = np.zeros([ntotal])\n",
    "for i in range(ntotal):\n",
    "    if (i%10 == 0):\n",
    "        nall[i] = ninit"
   ]
  },
  {
   "cell_type": "markdown",
   "id": "7b621b68-d39f-4655-b821-7320f421e2f6",
   "metadata": {},
   "source": []
  },
  {
   "cell_type": "code",
   "execution_count": 260,
   "id": "1ed99a13-d7e0-4336-b2fe-2d791876a291",
   "metadata": {},
   "outputs": [],
   "source": [
    "import pdb"
   ]
  },
  {
   "cell_type": "code",
   "execution_count": 263,
   "id": "078e8abb-8648-4842-b32e-854c4dd4eef0",
   "metadata": {},
   "outputs": [
    {
     "name": "stdout",
     "output_type": "stream",
     "text": [
      "> \u001b[0;32m/var/folders/4v/g0zjp6c95535931grpmdq5840000gp/T/ipykernel_18969/2817245518.py\u001b[0m(3)\u001b[0;36mexpected_variance\u001b[0;34m()\u001b[0m\n",
      "\u001b[0;32m      1 \u001b[0;31m\u001b[0;32mdef\u001b[0m \u001b[0mexpected_variance\u001b[0m\u001b[0;34m(\u001b[0m\u001b[0mnsamps\u001b[0m\u001b[0;34m,\u001b[0m\u001b[0mlambdas\u001b[0m\u001b[0;34m,\u001b[0m\u001b[0mvarfunc\u001b[0m\u001b[0;34m,\u001b[0m\u001b[0mcomponents\u001b[0m\u001b[0;34m=\u001b[0m\u001b[0;32mFalse\u001b[0m\u001b[0;34m)\u001b[0m\u001b[0;34m:\u001b[0m\u001b[0;34m\u001b[0m\u001b[0;34m\u001b[0m\u001b[0m\n",
      "\u001b[0m\u001b[0;32m      2 \u001b[0;31m    \u001b[0mpdb\u001b[0m\u001b[0;34m.\u001b[0m\u001b[0mset_trace\u001b[0m\u001b[0;34m(\u001b[0m\u001b[0;34m)\u001b[0m\u001b[0;34m\u001b[0m\u001b[0;34m\u001b[0m\u001b[0m\n",
      "\u001b[0m\u001b[0;32m----> 3 \u001b[0;31m    \u001b[0mnonzero_locs\u001b[0m \u001b[0;34m=\u001b[0m \u001b[0;34m(\u001b[0m\u001b[0mnsamps\u001b[0m\u001b[0;34m!=\u001b[0m\u001b[0;36m0\u001b[0m\u001b[0;34m)\u001b[0m\u001b[0;34m\u001b[0m\u001b[0;34m\u001b[0m\u001b[0m\n",
      "\u001b[0m\u001b[0;32m      4 \u001b[0;31m    \u001b[0mdlambda\u001b[0m \u001b[0;34m=\u001b[0m \u001b[0mnp\u001b[0m\u001b[0;34m.\u001b[0m\u001b[0mdiff\u001b[0m\u001b[0;34m(\u001b[0m\u001b[0mlambdas\u001b[0m\u001b[0;34m[\u001b[0m\u001b[0mnonzero_locs\u001b[0m\u001b[0;34m]\u001b[0m\u001b[0;34m)\u001b[0m\u001b[0;34m\u001b[0m\u001b[0;34m\u001b[0m\u001b[0m\n",
      "\u001b[0m\u001b[0;32m      5 \u001b[0;31m    \u001b[0mwlambda\u001b[0m \u001b[0;34m=\u001b[0m \u001b[0mnp\u001b[0m\u001b[0;34m.\u001b[0m\u001b[0mzeros\u001b[0m\u001b[0;34m(\u001b[0m\u001b[0mlen\u001b[0m\u001b[0;34m(\u001b[0m\u001b[0mdlambda\u001b[0m\u001b[0;34m)\u001b[0m\u001b[0;34m+\u001b[0m\u001b[0;36m1\u001b[0m\u001b[0;34m)\u001b[0m\u001b[0;34m\u001b[0m\u001b[0;34m\u001b[0m\u001b[0m\n",
      "\u001b[0m\n"
     ]
    },
    {
     "name": "stdin",
     "output_type": "stream",
     "text": [
      "ipdb>  n\n"
     ]
    },
    {
     "name": "stdout",
     "output_type": "stream",
     "text": [
      "> \u001b[0;32m/var/folders/4v/g0zjp6c95535931grpmdq5840000gp/T/ipykernel_18969/2817245518.py\u001b[0m(4)\u001b[0;36mexpected_variance\u001b[0;34m()\u001b[0m\n",
      "\u001b[0;32m      2 \u001b[0;31m    \u001b[0mpdb\u001b[0m\u001b[0;34m.\u001b[0m\u001b[0mset_trace\u001b[0m\u001b[0;34m(\u001b[0m\u001b[0;34m)\u001b[0m\u001b[0;34m\u001b[0m\u001b[0;34m\u001b[0m\u001b[0m\n",
      "\u001b[0m\u001b[0;32m      3 \u001b[0;31m    \u001b[0mnonzero_locs\u001b[0m \u001b[0;34m=\u001b[0m \u001b[0;34m(\u001b[0m\u001b[0mnsamps\u001b[0m\u001b[0;34m!=\u001b[0m\u001b[0;36m0\u001b[0m\u001b[0;34m)\u001b[0m\u001b[0;34m\u001b[0m\u001b[0;34m\u001b[0m\u001b[0m\n",
      "\u001b[0m\u001b[0;32m----> 4 \u001b[0;31m    \u001b[0mdlambda\u001b[0m \u001b[0;34m=\u001b[0m \u001b[0mnp\u001b[0m\u001b[0;34m.\u001b[0m\u001b[0mdiff\u001b[0m\u001b[0;34m(\u001b[0m\u001b[0mlambdas\u001b[0m\u001b[0;34m[\u001b[0m\u001b[0mnonzero_locs\u001b[0m\u001b[0;34m]\u001b[0m\u001b[0;34m)\u001b[0m\u001b[0;34m\u001b[0m\u001b[0;34m\u001b[0m\u001b[0m\n",
      "\u001b[0m\u001b[0;32m      5 \u001b[0;31m    \u001b[0mwlambda\u001b[0m \u001b[0;34m=\u001b[0m \u001b[0mnp\u001b[0m\u001b[0;34m.\u001b[0m\u001b[0mzeros\u001b[0m\u001b[0;34m(\u001b[0m\u001b[0mlen\u001b[0m\u001b[0;34m(\u001b[0m\u001b[0mdlambda\u001b[0m\u001b[0;34m)\u001b[0m\u001b[0;34m+\u001b[0m\u001b[0;36m1\u001b[0m\u001b[0;34m)\u001b[0m\u001b[0;34m\u001b[0m\u001b[0;34m\u001b[0m\u001b[0m\n",
      "\u001b[0m\u001b[0;32m      6 \u001b[0;31m    \u001b[0mwlambda\u001b[0m\u001b[0;34m[\u001b[0m\u001b[0;36m1\u001b[0m\u001b[0;34m:\u001b[0m\u001b[0;34m]\u001b[0m \u001b[0;34m+=\u001b[0m \u001b[0mdlambda\u001b[0m\u001b[0;34m\u001b[0m\u001b[0;34m\u001b[0m\u001b[0m\n",
      "\u001b[0m\n"
     ]
    },
    {
     "name": "stdin",
     "output_type": "stream",
     "text": [
      "ipdb>  n\n"
     ]
    },
    {
     "name": "stdout",
     "output_type": "stream",
     "text": [
      "> \u001b[0;32m/var/folders/4v/g0zjp6c95535931grpmdq5840000gp/T/ipykernel_18969/2817245518.py\u001b[0m(5)\u001b[0;36mexpected_variance\u001b[0;34m()\u001b[0m\n",
      "\u001b[0;32m      3 \u001b[0;31m    \u001b[0mnonzero_locs\u001b[0m \u001b[0;34m=\u001b[0m \u001b[0;34m(\u001b[0m\u001b[0mnsamps\u001b[0m\u001b[0;34m!=\u001b[0m\u001b[0;36m0\u001b[0m\u001b[0;34m)\u001b[0m\u001b[0;34m\u001b[0m\u001b[0;34m\u001b[0m\u001b[0m\n",
      "\u001b[0m\u001b[0;32m      4 \u001b[0;31m    \u001b[0mdlambda\u001b[0m \u001b[0;34m=\u001b[0m \u001b[0mnp\u001b[0m\u001b[0;34m.\u001b[0m\u001b[0mdiff\u001b[0m\u001b[0;34m(\u001b[0m\u001b[0mlambdas\u001b[0m\u001b[0;34m[\u001b[0m\u001b[0mnonzero_locs\u001b[0m\u001b[0;34m]\u001b[0m\u001b[0;34m)\u001b[0m\u001b[0;34m\u001b[0m\u001b[0;34m\u001b[0m\u001b[0m\n",
      "\u001b[0m\u001b[0;32m----> 5 \u001b[0;31m    \u001b[0mwlambda\u001b[0m \u001b[0;34m=\u001b[0m \u001b[0mnp\u001b[0m\u001b[0;34m.\u001b[0m\u001b[0mzeros\u001b[0m\u001b[0;34m(\u001b[0m\u001b[0mlen\u001b[0m\u001b[0;34m(\u001b[0m\u001b[0mdlambda\u001b[0m\u001b[0;34m)\u001b[0m\u001b[0;34m+\u001b[0m\u001b[0;36m1\u001b[0m\u001b[0;34m)\u001b[0m\u001b[0;34m\u001b[0m\u001b[0;34m\u001b[0m\u001b[0m\n",
      "\u001b[0m\u001b[0;32m      6 \u001b[0;31m    \u001b[0mwlambda\u001b[0m\u001b[0;34m[\u001b[0m\u001b[0;36m1\u001b[0m\u001b[0;34m:\u001b[0m\u001b[0;34m]\u001b[0m \u001b[0;34m+=\u001b[0m \u001b[0mdlambda\u001b[0m\u001b[0;34m\u001b[0m\u001b[0;34m\u001b[0m\u001b[0m\n",
      "\u001b[0m\u001b[0;32m      7 \u001b[0;31m    \u001b[0mwlambda\u001b[0m\u001b[0;34m[\u001b[0m\u001b[0;34m:\u001b[0m\u001b[0;34m-\u001b[0m\u001b[0;36m1\u001b[0m\u001b[0;34m]\u001b[0m \u001b[0;34m+=\u001b[0m \u001b[0mdlambda\u001b[0m\u001b[0;34m\u001b[0m\u001b[0;34m\u001b[0m\u001b[0m\n",
      "\u001b[0m\n"
     ]
    },
    {
     "name": "stdin",
     "output_type": "stream",
     "text": [
      "ipdb>  n\n"
     ]
    },
    {
     "name": "stdout",
     "output_type": "stream",
     "text": [
      "> \u001b[0;32m/var/folders/4v/g0zjp6c95535931grpmdq5840000gp/T/ipykernel_18969/2817245518.py\u001b[0m(6)\u001b[0;36mexpected_variance\u001b[0;34m()\u001b[0m\n",
      "\u001b[0;32m      4 \u001b[0;31m    \u001b[0mdlambda\u001b[0m \u001b[0;34m=\u001b[0m \u001b[0mnp\u001b[0m\u001b[0;34m.\u001b[0m\u001b[0mdiff\u001b[0m\u001b[0;34m(\u001b[0m\u001b[0mlambdas\u001b[0m\u001b[0;34m[\u001b[0m\u001b[0mnonzero_locs\u001b[0m\u001b[0;34m]\u001b[0m\u001b[0;34m)\u001b[0m\u001b[0;34m\u001b[0m\u001b[0;34m\u001b[0m\u001b[0m\n",
      "\u001b[0m\u001b[0;32m      5 \u001b[0;31m    \u001b[0mwlambda\u001b[0m \u001b[0;34m=\u001b[0m \u001b[0mnp\u001b[0m\u001b[0;34m.\u001b[0m\u001b[0mzeros\u001b[0m\u001b[0;34m(\u001b[0m\u001b[0mlen\u001b[0m\u001b[0;34m(\u001b[0m\u001b[0mdlambda\u001b[0m\u001b[0;34m)\u001b[0m\u001b[0;34m+\u001b[0m\u001b[0;36m1\u001b[0m\u001b[0;34m)\u001b[0m\u001b[0;34m\u001b[0m\u001b[0;34m\u001b[0m\u001b[0m\n",
      "\u001b[0m\u001b[0;32m----> 6 \u001b[0;31m    \u001b[0mwlambda\u001b[0m\u001b[0;34m[\u001b[0m\u001b[0;36m1\u001b[0m\u001b[0;34m:\u001b[0m\u001b[0;34m]\u001b[0m \u001b[0;34m+=\u001b[0m \u001b[0mdlambda\u001b[0m\u001b[0;34m\u001b[0m\u001b[0;34m\u001b[0m\u001b[0m\n",
      "\u001b[0m\u001b[0;32m      7 \u001b[0;31m    \u001b[0mwlambda\u001b[0m\u001b[0;34m[\u001b[0m\u001b[0;34m:\u001b[0m\u001b[0;34m-\u001b[0m\u001b[0;36m1\u001b[0m\u001b[0;34m]\u001b[0m \u001b[0;34m+=\u001b[0m \u001b[0mdlambda\u001b[0m\u001b[0;34m\u001b[0m\u001b[0;34m\u001b[0m\u001b[0m\n",
      "\u001b[0m\u001b[0;32m      8 \u001b[0;31m    \u001b[0mwlambda\u001b[0m \u001b[0;34m*=\u001b[0m \u001b[0;36m0.5\u001b[0m\u001b[0;34m\u001b[0m\u001b[0;34m\u001b[0m\u001b[0m\n",
      "\u001b[0m\n"
     ]
    },
    {
     "name": "stdin",
     "output_type": "stream",
     "text": [
      "ipdb>  n\n"
     ]
    },
    {
     "name": "stdout",
     "output_type": "stream",
     "text": [
      "> \u001b[0;32m/var/folders/4v/g0zjp6c95535931grpmdq5840000gp/T/ipykernel_18969/2817245518.py\u001b[0m(7)\u001b[0;36mexpected_variance\u001b[0;34m()\u001b[0m\n",
      "\u001b[0;32m      5 \u001b[0;31m    \u001b[0mwlambda\u001b[0m \u001b[0;34m=\u001b[0m \u001b[0mnp\u001b[0m\u001b[0;34m.\u001b[0m\u001b[0mzeros\u001b[0m\u001b[0;34m(\u001b[0m\u001b[0mlen\u001b[0m\u001b[0;34m(\u001b[0m\u001b[0mdlambda\u001b[0m\u001b[0;34m)\u001b[0m\u001b[0;34m+\u001b[0m\u001b[0;36m1\u001b[0m\u001b[0;34m)\u001b[0m\u001b[0;34m\u001b[0m\u001b[0;34m\u001b[0m\u001b[0m\n",
      "\u001b[0m\u001b[0;32m      6 \u001b[0;31m    \u001b[0mwlambda\u001b[0m\u001b[0;34m[\u001b[0m\u001b[0;36m1\u001b[0m\u001b[0;34m:\u001b[0m\u001b[0;34m]\u001b[0m \u001b[0;34m+=\u001b[0m \u001b[0mdlambda\u001b[0m\u001b[0;34m\u001b[0m\u001b[0;34m\u001b[0m\u001b[0m\n",
      "\u001b[0m\u001b[0;32m----> 7 \u001b[0;31m    \u001b[0mwlambda\u001b[0m\u001b[0;34m[\u001b[0m\u001b[0;34m:\u001b[0m\u001b[0;34m-\u001b[0m\u001b[0;36m1\u001b[0m\u001b[0;34m]\u001b[0m \u001b[0;34m+=\u001b[0m \u001b[0mdlambda\u001b[0m\u001b[0;34m\u001b[0m\u001b[0;34m\u001b[0m\u001b[0m\n",
      "\u001b[0m\u001b[0;32m      8 \u001b[0;31m    \u001b[0mwlambda\u001b[0m \u001b[0;34m*=\u001b[0m \u001b[0;36m0.5\u001b[0m\u001b[0;34m\u001b[0m\u001b[0;34m\u001b[0m\u001b[0m\n",
      "\u001b[0m\u001b[0;32m      9 \u001b[0;31m    \u001b[0;31m#print(wlambda,np.sum(wlambda))\u001b[0m\u001b[0;34m\u001b[0m\u001b[0;34m\u001b[0m\u001b[0m\n",
      "\u001b[0m\n"
     ]
    },
    {
     "name": "stdin",
     "output_type": "stream",
     "text": [
      "ipdb>  n\n"
     ]
    },
    {
     "name": "stdout",
     "output_type": "stream",
     "text": [
      "> \u001b[0;32m/var/folders/4v/g0zjp6c95535931grpmdq5840000gp/T/ipykernel_18969/2817245518.py\u001b[0m(8)\u001b[0;36mexpected_variance\u001b[0;34m()\u001b[0m\n",
      "\u001b[0;32m      6 \u001b[0;31m    \u001b[0mwlambda\u001b[0m\u001b[0;34m[\u001b[0m\u001b[0;36m1\u001b[0m\u001b[0;34m:\u001b[0m\u001b[0;34m]\u001b[0m \u001b[0;34m+=\u001b[0m \u001b[0mdlambda\u001b[0m\u001b[0;34m\u001b[0m\u001b[0;34m\u001b[0m\u001b[0m\n",
      "\u001b[0m\u001b[0;32m      7 \u001b[0;31m    \u001b[0mwlambda\u001b[0m\u001b[0;34m[\u001b[0m\u001b[0;34m:\u001b[0m\u001b[0;34m-\u001b[0m\u001b[0;36m1\u001b[0m\u001b[0;34m]\u001b[0m \u001b[0;34m+=\u001b[0m \u001b[0mdlambda\u001b[0m\u001b[0;34m\u001b[0m\u001b[0;34m\u001b[0m\u001b[0m\n",
      "\u001b[0m\u001b[0;32m----> 8 \u001b[0;31m    \u001b[0mwlambda\u001b[0m \u001b[0;34m*=\u001b[0m \u001b[0;36m0.5\u001b[0m\u001b[0;34m\u001b[0m\u001b[0;34m\u001b[0m\u001b[0m\n",
      "\u001b[0m\u001b[0;32m      9 \u001b[0;31m    \u001b[0;31m#print(wlambda,np.sum(wlambda))\u001b[0m\u001b[0;34m\u001b[0m\u001b[0;34m\u001b[0m\u001b[0m\n",
      "\u001b[0m\u001b[0;32m     10 \u001b[0;31m    \u001b[0;31m#print(varfunc(lambdas[nonzero_locs])*(wlambda/nsamps[nonzero_locs]))\u001b[0m\u001b[0;34m\u001b[0m\u001b[0;34m\u001b[0m\u001b[0m\n",
      "\u001b[0m\n"
     ]
    },
    {
     "name": "stdin",
     "output_type": "stream",
     "text": [
      "ipdb>  n\n"
     ]
    },
    {
     "name": "stdout",
     "output_type": "stream",
     "text": [
      "> \u001b[0;32m/var/folders/4v/g0zjp6c95535931grpmdq5840000gp/T/ipykernel_18969/2817245518.py\u001b[0m(11)\u001b[0;36mexpected_variance\u001b[0;34m()\u001b[0m\n",
      "\u001b[0;32m      9 \u001b[0;31m    \u001b[0;31m#print(wlambda,np.sum(wlambda))\u001b[0m\u001b[0;34m\u001b[0m\u001b[0;34m\u001b[0m\u001b[0m\n",
      "\u001b[0m\u001b[0;32m     10 \u001b[0;31m    \u001b[0;31m#print(varfunc(lambdas[nonzero_locs])*(wlambda/nsamps[nonzero_locs]))\u001b[0m\u001b[0;34m\u001b[0m\u001b[0;34m\u001b[0m\u001b[0m\n",
      "\u001b[0m\u001b[0;32m---> 11 \u001b[0;31m    \u001b[0mvals\u001b[0m \u001b[0;34m=\u001b[0m \u001b[0mvarfunc\u001b[0m\u001b[0;34m(\u001b[0m\u001b[0mlambdas\u001b[0m\u001b[0;34m[\u001b[0m\u001b[0mnonzero_locs\u001b[0m\u001b[0;34m]\u001b[0m\u001b[0;34m)\u001b[0m\u001b[0;34m*\u001b[0m\u001b[0;34m(\u001b[0m\u001b[0mwlambda\u001b[0m\u001b[0;34m**\u001b[0m\u001b[0;36m2\u001b[0m\u001b[0;34m/\u001b[0m\u001b[0mnsamps\u001b[0m\u001b[0;34m[\u001b[0m\u001b[0mnonzero_locs\u001b[0m\u001b[0;34m]\u001b[0m\u001b[0;34m)\u001b[0m\u001b[0;34m\u001b[0m\u001b[0;34m\u001b[0m\u001b[0m\n",
      "\u001b[0m\u001b[0;32m     12 \u001b[0;31m    \u001b[0mvsum\u001b[0m \u001b[0;34m=\u001b[0m \u001b[0mnp\u001b[0m\u001b[0;34m.\u001b[0m\u001b[0msum\u001b[0m\u001b[0;34m(\u001b[0m\u001b[0mvals\u001b[0m\u001b[0;34m)\u001b[0m\u001b[0;34m\u001b[0m\u001b[0;34m\u001b[0m\u001b[0m\n",
      "\u001b[0m\u001b[0;32m     13 \u001b[0;31m    \u001b[0;32mif\u001b[0m \u001b[0mcomponents\u001b[0m\u001b[0;34m==\u001b[0m\u001b[0;32mFalse\u001b[0m\u001b[0;34m:\u001b[0m\u001b[0;34m\u001b[0m\u001b[0;34m\u001b[0m\u001b[0m\n",
      "\u001b[0m\n"
     ]
    },
    {
     "name": "stdin",
     "output_type": "stream",
     "text": [
      "ipdb>  n\n"
     ]
    },
    {
     "name": "stdout",
     "output_type": "stream",
     "text": [
      "> \u001b[0;32m/var/folders/4v/g0zjp6c95535931grpmdq5840000gp/T/ipykernel_18969/2817245518.py\u001b[0m(12)\u001b[0;36mexpected_variance\u001b[0;34m()\u001b[0m\n",
      "\u001b[0;32m     10 \u001b[0;31m    \u001b[0;31m#print(varfunc(lambdas[nonzero_locs])*(wlambda/nsamps[nonzero_locs]))\u001b[0m\u001b[0;34m\u001b[0m\u001b[0;34m\u001b[0m\u001b[0m\n",
      "\u001b[0m\u001b[0;32m     11 \u001b[0;31m    \u001b[0mvals\u001b[0m \u001b[0;34m=\u001b[0m \u001b[0mvarfunc\u001b[0m\u001b[0;34m(\u001b[0m\u001b[0mlambdas\u001b[0m\u001b[0;34m[\u001b[0m\u001b[0mnonzero_locs\u001b[0m\u001b[0;34m]\u001b[0m\u001b[0;34m)\u001b[0m\u001b[0;34m*\u001b[0m\u001b[0;34m(\u001b[0m\u001b[0mwlambda\u001b[0m\u001b[0;34m**\u001b[0m\u001b[0;36m2\u001b[0m\u001b[0;34m/\u001b[0m\u001b[0mnsamps\u001b[0m\u001b[0;34m[\u001b[0m\u001b[0mnonzero_locs\u001b[0m\u001b[0;34m]\u001b[0m\u001b[0;34m)\u001b[0m\u001b[0;34m\u001b[0m\u001b[0;34m\u001b[0m\u001b[0m\n",
      "\u001b[0m\u001b[0;32m---> 12 \u001b[0;31m    \u001b[0mvsum\u001b[0m \u001b[0;34m=\u001b[0m \u001b[0mnp\u001b[0m\u001b[0;34m.\u001b[0m\u001b[0msum\u001b[0m\u001b[0;34m(\u001b[0m\u001b[0mvals\u001b[0m\u001b[0;34m)\u001b[0m\u001b[0;34m\u001b[0m\u001b[0;34m\u001b[0m\u001b[0m\n",
      "\u001b[0m\u001b[0;32m     13 \u001b[0;31m    \u001b[0;32mif\u001b[0m \u001b[0mcomponents\u001b[0m\u001b[0;34m==\u001b[0m\u001b[0;32mFalse\u001b[0m\u001b[0;34m:\u001b[0m\u001b[0;34m\u001b[0m\u001b[0;34m\u001b[0m\u001b[0m\n",
      "\u001b[0m\u001b[0;32m     14 \u001b[0;31m        \u001b[0;32mreturn\u001b[0m \u001b[0mvsum\u001b[0m\u001b[0;34m\u001b[0m\u001b[0;34m\u001b[0m\u001b[0m\n",
      "\u001b[0m\n"
     ]
    },
    {
     "name": "stdin",
     "output_type": "stream",
     "text": [
      "ipdb>  p vals\n"
     ]
    },
    {
     "name": "stdout",
     "output_type": "stream",
     "text": [
      "array([2.50000000e-07, 4.00000000e-06, 9.00000000e-06, 1.60000000e-05,\n",
      "       1.40625000e-05, 1.14633092e-05, 1.60000000e-05, 1.74898158e-05,\n",
      "       2.50000000e-05, 2.89495536e-05, 1.44780179e-05, 1.60000000e-05,\n",
      "       1.07955312e-05, 1.07622143e-05, 2.28446016e-05, 2.75625000e-05,\n",
      "       2.81981257e-05, 1.11959229e-05, 1.80000000e-05, 9.00000000e-06])\n"
     ]
    },
    {
     "name": "stdin",
     "output_type": "stream",
     "text": [
      "ipdb>  n\n"
     ]
    },
    {
     "name": "stdout",
     "output_type": "stream",
     "text": [
      "> \u001b[0;32m/var/folders/4v/g0zjp6c95535931grpmdq5840000gp/T/ipykernel_18969/2817245518.py\u001b[0m(13)\u001b[0;36mexpected_variance\u001b[0;34m()\u001b[0m\n",
      "\u001b[0;32m     11 \u001b[0;31m    \u001b[0mvals\u001b[0m \u001b[0;34m=\u001b[0m \u001b[0mvarfunc\u001b[0m\u001b[0;34m(\u001b[0m\u001b[0mlambdas\u001b[0m\u001b[0;34m[\u001b[0m\u001b[0mnonzero_locs\u001b[0m\u001b[0;34m]\u001b[0m\u001b[0;34m)\u001b[0m\u001b[0;34m*\u001b[0m\u001b[0;34m(\u001b[0m\u001b[0mwlambda\u001b[0m\u001b[0;34m**\u001b[0m\u001b[0;36m2\u001b[0m\u001b[0;34m/\u001b[0m\u001b[0mnsamps\u001b[0m\u001b[0;34m[\u001b[0m\u001b[0mnonzero_locs\u001b[0m\u001b[0;34m]\u001b[0m\u001b[0;34m)\u001b[0m\u001b[0;34m\u001b[0m\u001b[0;34m\u001b[0m\u001b[0m\n",
      "\u001b[0m\u001b[0;32m     12 \u001b[0;31m    \u001b[0mvsum\u001b[0m \u001b[0;34m=\u001b[0m \u001b[0mnp\u001b[0m\u001b[0;34m.\u001b[0m\u001b[0msum\u001b[0m\u001b[0;34m(\u001b[0m\u001b[0mvals\u001b[0m\u001b[0;34m)\u001b[0m\u001b[0;34m\u001b[0m\u001b[0;34m\u001b[0m\u001b[0m\n",
      "\u001b[0m\u001b[0;32m---> 13 \u001b[0;31m    \u001b[0;32mif\u001b[0m \u001b[0mcomponents\u001b[0m\u001b[0;34m==\u001b[0m\u001b[0;32mFalse\u001b[0m\u001b[0;34m:\u001b[0m\u001b[0;34m\u001b[0m\u001b[0;34m\u001b[0m\u001b[0m\n",
      "\u001b[0m\u001b[0;32m     14 \u001b[0;31m        \u001b[0;32mreturn\u001b[0m \u001b[0mvsum\u001b[0m\u001b[0;34m\u001b[0m\u001b[0;34m\u001b[0m\u001b[0m\n",
      "\u001b[0m\u001b[0;32m     15 \u001b[0;31m    \u001b[0;32melse\u001b[0m\u001b[0;34m:\u001b[0m\u001b[0;34m\u001b[0m\u001b[0;34m\u001b[0m\u001b[0m\n",
      "\u001b[0m\n"
     ]
    },
    {
     "name": "stdin",
     "output_type": "stream",
     "text": [
      "ipdb>  n\n"
     ]
    },
    {
     "name": "stdout",
     "output_type": "stream",
     "text": [
      "> \u001b[0;32m/var/folders/4v/g0zjp6c95535931grpmdq5840000gp/T/ipykernel_18969/2817245518.py\u001b[0m(16)\u001b[0;36mexpected_variance\u001b[0;34m()\u001b[0m\n",
      "\u001b[0;32m     12 \u001b[0;31m    \u001b[0mvsum\u001b[0m \u001b[0;34m=\u001b[0m \u001b[0mnp\u001b[0m\u001b[0;34m.\u001b[0m\u001b[0msum\u001b[0m\u001b[0;34m(\u001b[0m\u001b[0mvals\u001b[0m\u001b[0;34m)\u001b[0m\u001b[0;34m\u001b[0m\u001b[0;34m\u001b[0m\u001b[0m\n",
      "\u001b[0m\u001b[0;32m     13 \u001b[0;31m    \u001b[0;32mif\u001b[0m \u001b[0mcomponents\u001b[0m\u001b[0;34m==\u001b[0m\u001b[0;32mFalse\u001b[0m\u001b[0;34m:\u001b[0m\u001b[0;34m\u001b[0m\u001b[0;34m\u001b[0m\u001b[0m\n",
      "\u001b[0m\u001b[0;32m     14 \u001b[0;31m        \u001b[0;32mreturn\u001b[0m \u001b[0mvsum\u001b[0m\u001b[0;34m\u001b[0m\u001b[0;34m\u001b[0m\u001b[0m\n",
      "\u001b[0m\u001b[0;32m     15 \u001b[0;31m    \u001b[0;32melse\u001b[0m\u001b[0;34m:\u001b[0m\u001b[0;34m\u001b[0m\u001b[0;34m\u001b[0m\u001b[0m\n",
      "\u001b[0m\u001b[0;32m---> 16 \u001b[0;31m        \u001b[0;32mreturn\u001b[0m \u001b[0mvsum\u001b[0m\u001b[0;34m,\u001b[0m\u001b[0mvals\u001b[0m\u001b[0;34m\u001b[0m\u001b[0;34m\u001b[0m\u001b[0m\n",
      "\u001b[0m\n"
     ]
    },
    {
     "name": "stdin",
     "output_type": "stream",
     "text": [
      "ipdb>  n\n"
     ]
    },
    {
     "name": "stdout",
     "output_type": "stream",
     "text": [
      "--Return--\n",
      "(0.00031105209209821434, array([2.5000...00000000e-06]))\n",
      "> \u001b[0;32m/var/folders/4v/g0zjp6c95535931grpmdq5840000gp/T/ipykernel_18969/2817245518.py\u001b[0m(16)\u001b[0;36mexpected_variance\u001b[0;34m()\u001b[0m\n",
      "\u001b[0;32m     12 \u001b[0;31m    \u001b[0mvsum\u001b[0m \u001b[0;34m=\u001b[0m \u001b[0mnp\u001b[0m\u001b[0;34m.\u001b[0m\u001b[0msum\u001b[0m\u001b[0;34m(\u001b[0m\u001b[0mvals\u001b[0m\u001b[0;34m)\u001b[0m\u001b[0;34m\u001b[0m\u001b[0;34m\u001b[0m\u001b[0m\n",
      "\u001b[0m\u001b[0;32m     13 \u001b[0;31m    \u001b[0;32mif\u001b[0m \u001b[0mcomponents\u001b[0m\u001b[0;34m==\u001b[0m\u001b[0;32mFalse\u001b[0m\u001b[0;34m:\u001b[0m\u001b[0;34m\u001b[0m\u001b[0;34m\u001b[0m\u001b[0m\n",
      "\u001b[0m\u001b[0;32m     14 \u001b[0;31m        \u001b[0;32mreturn\u001b[0m \u001b[0mvsum\u001b[0m\u001b[0;34m\u001b[0m\u001b[0;34m\u001b[0m\u001b[0m\n",
      "\u001b[0m\u001b[0;32m     15 \u001b[0;31m    \u001b[0;32melse\u001b[0m\u001b[0;34m:\u001b[0m\u001b[0;34m\u001b[0m\u001b[0;34m\u001b[0m\u001b[0m\n",
      "\u001b[0m\u001b[0;32m---> 16 \u001b[0;31m        \u001b[0;32mreturn\u001b[0m \u001b[0mvsum\u001b[0m\u001b[0;34m,\u001b[0m\u001b[0mvals\u001b[0m\u001b[0;34m\u001b[0m\u001b[0;34m\u001b[0m\u001b[0m\n",
      "\u001b[0m\n"
     ]
    },
    {
     "name": "stdin",
     "output_type": "stream",
     "text": [
      "ipdb>  n\n"
     ]
    },
    {
     "name": "stdout",
     "output_type": "stream",
     "text": [
      "--Return--\n",
      "None\n",
      "> \u001b[0;32m/var/folders/4v/g0zjp6c95535931grpmdq5840000gp/T/ipykernel_18969/4210526497.py\u001b[0m(3)\u001b[0;36m<module>\u001b[0;34m()\u001b[0m\n",
      "\u001b[0;32m      1 \u001b[0;31m\u001b[0;31m#contribution to the uncertainty at each point\u001b[0m\u001b[0;34m\u001b[0m\u001b[0;34m\u001b[0m\u001b[0m\n",
      "\u001b[0m\u001b[0;32m      2 \u001b[0;31m\u001b[0;34m\u001b[0m\u001b[0m\n",
      "\u001b[0m\u001b[0;32m----> 3 \u001b[0;31m\u001b[0mtotal\u001b[0m\u001b[0;34m,\u001b[0m\u001b[0mvals\u001b[0m \u001b[0;34m=\u001b[0m \u001b[0mexpected_variance\u001b[0m\u001b[0;34m(\u001b[0m\u001b[0mnsamps\u001b[0m\u001b[0;34m=\u001b[0m\u001b[0mnall\u001b[0m\u001b[0;34m,\u001b[0m\u001b[0mlambdas\u001b[0m\u001b[0;34m=\u001b[0m\u001b[0mlamall\u001b[0m\u001b[0;34m,\u001b[0m\u001b[0mvarfunc\u001b[0m\u001b[0;34m=\u001b[0m\u001b[0mfit_var\u001b[0m\u001b[0;34m,\u001b[0m\u001b[0mcomponents\u001b[0m\u001b[0;34m=\u001b[0m\u001b[0;32mTrue\u001b[0m\u001b[0;34m)\u001b[0m\u001b[0;34m\u001b[0m\u001b[0;34m\u001b[0m\u001b[0m\n",
      "\u001b[0m\u001b[0;32m      4 \u001b[0;31m\u001b[0mplt\u001b[0m\u001b[0;34m.\u001b[0m\u001b[0mplot\u001b[0m\u001b[0;34m(\u001b[0m\u001b[0mlamall\u001b[0m\u001b[0;34m[\u001b[0m\u001b[0mnall\u001b[0m\u001b[0;34m!=\u001b[0m\u001b[0;36m0\u001b[0m\u001b[0;34m]\u001b[0m\u001b[0;34m,\u001b[0m\u001b[0mvals\u001b[0m\u001b[0;34m)\u001b[0m\u001b[0;34m\u001b[0m\u001b[0;34m\u001b[0m\u001b[0m\n",
      "\u001b[0m\u001b[0;32m      5 \u001b[0;31m\u001b[0mplt\u001b[0m\u001b[0;34m.\u001b[0m\u001b[0mshow\u001b[0m\u001b[0;34m(\u001b[0m\u001b[0;34m)\u001b[0m\u001b[0;34m\u001b[0m\u001b[0;34m\u001b[0m\u001b[0m\n",
      "\u001b[0m\n"
     ]
    },
    {
     "name": "stdin",
     "output_type": "stream",
     "text": [
      "ipdb>  n\n"
     ]
    },
    {
     "name": "stdout",
     "output_type": "stream",
     "text": [
      "\u001b[0;31m    [... skipped 1 hidden frame]\u001b[0m\n",
      "\n",
      "> \u001b[0;32m/opt/anaconda3/envs/python_class/lib/python3.12/site-packages/IPython/core/interactiveshell.py\u001b[0m(3580)\u001b[0;36mrun_code\u001b[0;34m()\u001b[0m\n",
      "\u001b[0;32m   3578 \u001b[0;31m            \u001b[0;32mfinally\u001b[0m\u001b[0;34m:\u001b[0m\u001b[0;34m\u001b[0m\u001b[0;34m\u001b[0m\u001b[0m\n",
      "\u001b[0m\u001b[0;32m   3579 \u001b[0;31m                \u001b[0;31m# Reset our crash handler in place\u001b[0m\u001b[0;34m\u001b[0m\u001b[0;34m\u001b[0m\u001b[0m\n",
      "\u001b[0m\u001b[0;32m-> 3580 \u001b[0;31m                \u001b[0msys\u001b[0m\u001b[0;34m.\u001b[0m\u001b[0mexcepthook\u001b[0m \u001b[0;34m=\u001b[0m \u001b[0mold_excepthook\u001b[0m\u001b[0;34m\u001b[0m\u001b[0;34m\u001b[0m\u001b[0m\n",
      "\u001b[0m\u001b[0;32m   3581 \u001b[0;31m        \u001b[0;32mexcept\u001b[0m \u001b[0mSystemExit\u001b[0m \u001b[0;32mas\u001b[0m \u001b[0me\u001b[0m\u001b[0;34m:\u001b[0m\u001b[0;34m\u001b[0m\u001b[0;34m\u001b[0m\u001b[0m\n",
      "\u001b[0m\u001b[0;32m   3582 \u001b[0;31m            \u001b[0;32mif\u001b[0m \u001b[0mresult\u001b[0m \u001b[0;32mis\u001b[0m \u001b[0;32mnot\u001b[0m \u001b[0;32mNone\u001b[0m\u001b[0;34m:\u001b[0m\u001b[0;34m\u001b[0m\u001b[0;34m\u001b[0m\u001b[0m\n",
      "\u001b[0m\n"
     ]
    },
    {
     "name": "stdin",
     "output_type": "stream",
     "text": [
      "ipdb>  q\n"
     ]
    }
   ],
   "source": [
    "#contribution to the uncertainty at each point \n",
    "\n",
    "total,vals = expected_variance(nsamps=nall,lambdas=lamall,varfunc=fit_var,components=True)\n",
    "plt.plot(lamall[nall!=0],vals)\n",
    "plt.show()"
   ]
  },
  {
   "cell_type": "markdown",
   "id": "ab4432ae-c0e8-4b17-bdde-71b6894289b2",
   "metadata": {},
   "source": [
    "Now iteratively add points:"
   ]
  },
  {
   "cell_type": "code",
   "execution_count": null,
   "id": "7aa9be10-c317-4b7b-97dd-142843f4e5eb",
   "metadata": {},
   "outputs": [
    {
     "name": "stdout",
     "output_type": "stream",
     "text": [
      "> \u001b[0;32m/var/folders/4v/g0zjp6c95535931grpmdq5840000gp/T/ipykernel_18969/2817245518.py\u001b[0m(3)\u001b[0;36mexpected_variance\u001b[0;34m()\u001b[0m\n",
      "\u001b[0;32m      1 \u001b[0;31m\u001b[0;32mdef\u001b[0m \u001b[0mexpected_variance\u001b[0m\u001b[0;34m(\u001b[0m\u001b[0mnsamps\u001b[0m\u001b[0;34m,\u001b[0m\u001b[0mlambdas\u001b[0m\u001b[0;34m,\u001b[0m\u001b[0mvarfunc\u001b[0m\u001b[0;34m,\u001b[0m\u001b[0mcomponents\u001b[0m\u001b[0;34m=\u001b[0m\u001b[0;32mFalse\u001b[0m\u001b[0;34m)\u001b[0m\u001b[0;34m:\u001b[0m\u001b[0;34m\u001b[0m\u001b[0;34m\u001b[0m\u001b[0m\n",
      "\u001b[0m\u001b[0;32m      2 \u001b[0;31m    \u001b[0mpdb\u001b[0m\u001b[0;34m.\u001b[0m\u001b[0mset_trace\u001b[0m\u001b[0;34m(\u001b[0m\u001b[0;34m)\u001b[0m\u001b[0;34m\u001b[0m\u001b[0;34m\u001b[0m\u001b[0m\n",
      "\u001b[0m\u001b[0;32m----> 3 \u001b[0;31m    \u001b[0mnonzero_locs\u001b[0m \u001b[0;34m=\u001b[0m \u001b[0;34m(\u001b[0m\u001b[0mnsamps\u001b[0m\u001b[0;34m!=\u001b[0m\u001b[0;36m0\u001b[0m\u001b[0;34m)\u001b[0m\u001b[0;34m\u001b[0m\u001b[0;34m\u001b[0m\u001b[0m\n",
      "\u001b[0m\u001b[0;32m      4 \u001b[0;31m    \u001b[0mdlambda\u001b[0m \u001b[0;34m=\u001b[0m \u001b[0mnp\u001b[0m\u001b[0;34m.\u001b[0m\u001b[0mdiff\u001b[0m\u001b[0;34m(\u001b[0m\u001b[0mlambdas\u001b[0m\u001b[0;34m[\u001b[0m\u001b[0mnonzero_locs\u001b[0m\u001b[0;34m]\u001b[0m\u001b[0;34m)\u001b[0m\u001b[0;34m\u001b[0m\u001b[0;34m\u001b[0m\u001b[0m\n",
      "\u001b[0m\u001b[0;32m      5 \u001b[0;31m    \u001b[0mwlambda\u001b[0m \u001b[0;34m=\u001b[0m \u001b[0mnp\u001b[0m\u001b[0;34m.\u001b[0m\u001b[0mzeros\u001b[0m\u001b[0;34m(\u001b[0m\u001b[0mlen\u001b[0m\u001b[0;34m(\u001b[0m\u001b[0mdlambda\u001b[0m\u001b[0;34m)\u001b[0m\u001b[0;34m+\u001b[0m\u001b[0;36m1\u001b[0m\u001b[0;34m)\u001b[0m\u001b[0;34m\u001b[0m\u001b[0;34m\u001b[0m\u001b[0m\n",
      "\u001b[0m\n"
     ]
    },
    {
     "name": "stdin",
     "output_type": "stream",
     "text": [
      "ipdb>  n\n"
     ]
    },
    {
     "name": "stdout",
     "output_type": "stream",
     "text": [
      "> \u001b[0;32m/var/folders/4v/g0zjp6c95535931grpmdq5840000gp/T/ipykernel_18969/2817245518.py\u001b[0m(4)\u001b[0;36mexpected_variance\u001b[0;34m()\u001b[0m\n",
      "\u001b[0;32m      2 \u001b[0;31m    \u001b[0mpdb\u001b[0m\u001b[0;34m.\u001b[0m\u001b[0mset_trace\u001b[0m\u001b[0;34m(\u001b[0m\u001b[0;34m)\u001b[0m\u001b[0;34m\u001b[0m\u001b[0;34m\u001b[0m\u001b[0m\n",
      "\u001b[0m\u001b[0;32m      3 \u001b[0;31m    \u001b[0mnonzero_locs\u001b[0m \u001b[0;34m=\u001b[0m \u001b[0;34m(\u001b[0m\u001b[0mnsamps\u001b[0m\u001b[0;34m!=\u001b[0m\u001b[0;36m0\u001b[0m\u001b[0;34m)\u001b[0m\u001b[0;34m\u001b[0m\u001b[0;34m\u001b[0m\u001b[0m\n",
      "\u001b[0m\u001b[0;32m----> 4 \u001b[0;31m    \u001b[0mdlambda\u001b[0m \u001b[0;34m=\u001b[0m \u001b[0mnp\u001b[0m\u001b[0;34m.\u001b[0m\u001b[0mdiff\u001b[0m\u001b[0;34m(\u001b[0m\u001b[0mlambdas\u001b[0m\u001b[0;34m[\u001b[0m\u001b[0mnonzero_locs\u001b[0m\u001b[0;34m]\u001b[0m\u001b[0;34m)\u001b[0m\u001b[0;34m\u001b[0m\u001b[0;34m\u001b[0m\u001b[0m\n",
      "\u001b[0m\u001b[0;32m      5 \u001b[0;31m    \u001b[0mwlambda\u001b[0m \u001b[0;34m=\u001b[0m \u001b[0mnp\u001b[0m\u001b[0;34m.\u001b[0m\u001b[0mzeros\u001b[0m\u001b[0;34m(\u001b[0m\u001b[0mlen\u001b[0m\u001b[0;34m(\u001b[0m\u001b[0mdlambda\u001b[0m\u001b[0;34m)\u001b[0m\u001b[0;34m+\u001b[0m\u001b[0;36m1\u001b[0m\u001b[0;34m)\u001b[0m\u001b[0;34m\u001b[0m\u001b[0;34m\u001b[0m\u001b[0m\n",
      "\u001b[0m\u001b[0;32m      6 \u001b[0;31m    \u001b[0mwlambda\u001b[0m\u001b[0;34m[\u001b[0m\u001b[0;36m1\u001b[0m\u001b[0;34m:\u001b[0m\u001b[0;34m]\u001b[0m \u001b[0;34m+=\u001b[0m \u001b[0mdlambda\u001b[0m\u001b[0;34m\u001b[0m\u001b[0;34m\u001b[0m\u001b[0m\n",
      "\u001b[0m\n"
     ]
    },
    {
     "name": "stdin",
     "output_type": "stream",
     "text": [
      "ipdb>  n\n"
     ]
    },
    {
     "name": "stdout",
     "output_type": "stream",
     "text": [
      "> \u001b[0;32m/var/folders/4v/g0zjp6c95535931grpmdq5840000gp/T/ipykernel_18969/2817245518.py\u001b[0m(5)\u001b[0;36mexpected_variance\u001b[0;34m()\u001b[0m\n",
      "\u001b[0;32m      3 \u001b[0;31m    \u001b[0mnonzero_locs\u001b[0m \u001b[0;34m=\u001b[0m \u001b[0;34m(\u001b[0m\u001b[0mnsamps\u001b[0m\u001b[0;34m!=\u001b[0m\u001b[0;36m0\u001b[0m\u001b[0;34m)\u001b[0m\u001b[0;34m\u001b[0m\u001b[0;34m\u001b[0m\u001b[0m\n",
      "\u001b[0m\u001b[0;32m      4 \u001b[0;31m    \u001b[0mdlambda\u001b[0m \u001b[0;34m=\u001b[0m \u001b[0mnp\u001b[0m\u001b[0;34m.\u001b[0m\u001b[0mdiff\u001b[0m\u001b[0;34m(\u001b[0m\u001b[0mlambdas\u001b[0m\u001b[0;34m[\u001b[0m\u001b[0mnonzero_locs\u001b[0m\u001b[0;34m]\u001b[0m\u001b[0;34m)\u001b[0m\u001b[0;34m\u001b[0m\u001b[0;34m\u001b[0m\u001b[0m\n",
      "\u001b[0m\u001b[0;32m----> 5 \u001b[0;31m    \u001b[0mwlambda\u001b[0m \u001b[0;34m=\u001b[0m \u001b[0mnp\u001b[0m\u001b[0;34m.\u001b[0m\u001b[0mzeros\u001b[0m\u001b[0;34m(\u001b[0m\u001b[0mlen\u001b[0m\u001b[0;34m(\u001b[0m\u001b[0mdlambda\u001b[0m\u001b[0;34m)\u001b[0m\u001b[0;34m+\u001b[0m\u001b[0;36m1\u001b[0m\u001b[0;34m)\u001b[0m\u001b[0;34m\u001b[0m\u001b[0;34m\u001b[0m\u001b[0m\n",
      "\u001b[0m\u001b[0;32m      6 \u001b[0;31m    \u001b[0mwlambda\u001b[0m\u001b[0;34m[\u001b[0m\u001b[0;36m1\u001b[0m\u001b[0;34m:\u001b[0m\u001b[0;34m]\u001b[0m \u001b[0;34m+=\u001b[0m \u001b[0mdlambda\u001b[0m\u001b[0;34m\u001b[0m\u001b[0;34m\u001b[0m\u001b[0m\n",
      "\u001b[0m\u001b[0;32m      7 \u001b[0;31m    \u001b[0mwlambda\u001b[0m\u001b[0;34m[\u001b[0m\u001b[0;34m:\u001b[0m\u001b[0;34m-\u001b[0m\u001b[0;36m1\u001b[0m\u001b[0;34m]\u001b[0m \u001b[0;34m+=\u001b[0m \u001b[0mdlambda\u001b[0m\u001b[0;34m\u001b[0m\u001b[0;34m\u001b[0m\u001b[0m\n",
      "\u001b[0m\n"
     ]
    },
    {
     "name": "stdin",
     "output_type": "stream",
     "text": [
      "ipdb>  n\n"
     ]
    },
    {
     "name": "stdout",
     "output_type": "stream",
     "text": [
      "> \u001b[0;32m/var/folders/4v/g0zjp6c95535931grpmdq5840000gp/T/ipykernel_18969/2817245518.py\u001b[0m(6)\u001b[0;36mexpected_variance\u001b[0;34m()\u001b[0m\n",
      "\u001b[0;32m      4 \u001b[0;31m    \u001b[0mdlambda\u001b[0m \u001b[0;34m=\u001b[0m \u001b[0mnp\u001b[0m\u001b[0;34m.\u001b[0m\u001b[0mdiff\u001b[0m\u001b[0;34m(\u001b[0m\u001b[0mlambdas\u001b[0m\u001b[0;34m[\u001b[0m\u001b[0mnonzero_locs\u001b[0m\u001b[0;34m]\u001b[0m\u001b[0;34m)\u001b[0m\u001b[0;34m\u001b[0m\u001b[0;34m\u001b[0m\u001b[0m\n",
      "\u001b[0m\u001b[0;32m      5 \u001b[0;31m    \u001b[0mwlambda\u001b[0m \u001b[0;34m=\u001b[0m \u001b[0mnp\u001b[0m\u001b[0;34m.\u001b[0m\u001b[0mzeros\u001b[0m\u001b[0;34m(\u001b[0m\u001b[0mlen\u001b[0m\u001b[0;34m(\u001b[0m\u001b[0mdlambda\u001b[0m\u001b[0;34m)\u001b[0m\u001b[0;34m+\u001b[0m\u001b[0;36m1\u001b[0m\u001b[0;34m)\u001b[0m\u001b[0;34m\u001b[0m\u001b[0;34m\u001b[0m\u001b[0m\n",
      "\u001b[0m\u001b[0;32m----> 6 \u001b[0;31m    \u001b[0mwlambda\u001b[0m\u001b[0;34m[\u001b[0m\u001b[0;36m1\u001b[0m\u001b[0;34m:\u001b[0m\u001b[0;34m]\u001b[0m \u001b[0;34m+=\u001b[0m \u001b[0mdlambda\u001b[0m\u001b[0;34m\u001b[0m\u001b[0;34m\u001b[0m\u001b[0m\n",
      "\u001b[0m\u001b[0;32m      7 \u001b[0;31m    \u001b[0mwlambda\u001b[0m\u001b[0;34m[\u001b[0m\u001b[0;34m:\u001b[0m\u001b[0;34m-\u001b[0m\u001b[0;36m1\u001b[0m\u001b[0;34m]\u001b[0m \u001b[0;34m+=\u001b[0m \u001b[0mdlambda\u001b[0m\u001b[0;34m\u001b[0m\u001b[0;34m\u001b[0m\u001b[0m\n",
      "\u001b[0m\u001b[0;32m      8 \u001b[0;31m    \u001b[0mwlambda\u001b[0m \u001b[0;34m*=\u001b[0m \u001b[0;36m0.5\u001b[0m\u001b[0;34m\u001b[0m\u001b[0;34m\u001b[0m\u001b[0m\n",
      "\u001b[0m\n"
     ]
    },
    {
     "name": "stdin",
     "output_type": "stream",
     "text": [
      "ipdb>  n\n"
     ]
    },
    {
     "name": "stdout",
     "output_type": "stream",
     "text": [
      "> \u001b[0;32m/var/folders/4v/g0zjp6c95535931grpmdq5840000gp/T/ipykernel_18969/2817245518.py\u001b[0m(7)\u001b[0;36mexpected_variance\u001b[0;34m()\u001b[0m\n",
      "\u001b[0;32m      5 \u001b[0;31m    \u001b[0mwlambda\u001b[0m \u001b[0;34m=\u001b[0m \u001b[0mnp\u001b[0m\u001b[0;34m.\u001b[0m\u001b[0mzeros\u001b[0m\u001b[0;34m(\u001b[0m\u001b[0mlen\u001b[0m\u001b[0;34m(\u001b[0m\u001b[0mdlambda\u001b[0m\u001b[0;34m)\u001b[0m\u001b[0;34m+\u001b[0m\u001b[0;36m1\u001b[0m\u001b[0;34m)\u001b[0m\u001b[0;34m\u001b[0m\u001b[0;34m\u001b[0m\u001b[0m\n",
      "\u001b[0m\u001b[0;32m      6 \u001b[0;31m    \u001b[0mwlambda\u001b[0m\u001b[0;34m[\u001b[0m\u001b[0;36m1\u001b[0m\u001b[0;34m:\u001b[0m\u001b[0;34m]\u001b[0m \u001b[0;34m+=\u001b[0m \u001b[0mdlambda\u001b[0m\u001b[0;34m\u001b[0m\u001b[0;34m\u001b[0m\u001b[0m\n",
      "\u001b[0m\u001b[0;32m----> 7 \u001b[0;31m    \u001b[0mwlambda\u001b[0m\u001b[0;34m[\u001b[0m\u001b[0;34m:\u001b[0m\u001b[0;34m-\u001b[0m\u001b[0;36m1\u001b[0m\u001b[0;34m]\u001b[0m \u001b[0;34m+=\u001b[0m \u001b[0mdlambda\u001b[0m\u001b[0;34m\u001b[0m\u001b[0;34m\u001b[0m\u001b[0m\n",
      "\u001b[0m\u001b[0;32m      8 \u001b[0;31m    \u001b[0mwlambda\u001b[0m \u001b[0;34m*=\u001b[0m \u001b[0;36m0.5\u001b[0m\u001b[0;34m\u001b[0m\u001b[0;34m\u001b[0m\u001b[0m\n",
      "\u001b[0m\u001b[0;32m      9 \u001b[0;31m    \u001b[0;31m#print(wlambda,np.sum(wlambda))\u001b[0m\u001b[0;34m\u001b[0m\u001b[0;34m\u001b[0m\u001b[0m\n",
      "\u001b[0m\n"
     ]
    },
    {
     "name": "stdin",
     "output_type": "stream",
     "text": [
      "ipdb>  n\n"
     ]
    },
    {
     "name": "stdout",
     "output_type": "stream",
     "text": [
      "> \u001b[0;32m/var/folders/4v/g0zjp6c95535931grpmdq5840000gp/T/ipykernel_18969/2817245518.py\u001b[0m(8)\u001b[0;36mexpected_variance\u001b[0;34m()\u001b[0m\n",
      "\u001b[0;32m      6 \u001b[0;31m    \u001b[0mwlambda\u001b[0m\u001b[0;34m[\u001b[0m\u001b[0;36m1\u001b[0m\u001b[0;34m:\u001b[0m\u001b[0;34m]\u001b[0m \u001b[0;34m+=\u001b[0m \u001b[0mdlambda\u001b[0m\u001b[0;34m\u001b[0m\u001b[0;34m\u001b[0m\u001b[0m\n",
      "\u001b[0m\u001b[0;32m      7 \u001b[0;31m    \u001b[0mwlambda\u001b[0m\u001b[0;34m[\u001b[0m\u001b[0;34m:\u001b[0m\u001b[0;34m-\u001b[0m\u001b[0;36m1\u001b[0m\u001b[0;34m]\u001b[0m \u001b[0;34m+=\u001b[0m \u001b[0mdlambda\u001b[0m\u001b[0;34m\u001b[0m\u001b[0;34m\u001b[0m\u001b[0m\n",
      "\u001b[0m\u001b[0;32m----> 8 \u001b[0;31m    \u001b[0mwlambda\u001b[0m \u001b[0;34m*=\u001b[0m \u001b[0;36m0.5\u001b[0m\u001b[0;34m\u001b[0m\u001b[0;34m\u001b[0m\u001b[0m\n",
      "\u001b[0m\u001b[0;32m      9 \u001b[0;31m    \u001b[0;31m#print(wlambda,np.sum(wlambda))\u001b[0m\u001b[0;34m\u001b[0m\u001b[0;34m\u001b[0m\u001b[0m\n",
      "\u001b[0m\u001b[0;32m     10 \u001b[0;31m    \u001b[0;31m#print(varfunc(lambdas[nonzero_locs])*(wlambda/nsamps[nonzero_locs]))\u001b[0m\u001b[0;34m\u001b[0m\u001b[0;34m\u001b[0m\u001b[0m\n",
      "\u001b[0m\n"
     ]
    },
    {
     "name": "stdin",
     "output_type": "stream",
     "text": [
      "ipdb>  n\n"
     ]
    },
    {
     "name": "stdout",
     "output_type": "stream",
     "text": [
      "> \u001b[0;32m/var/folders/4v/g0zjp6c95535931grpmdq5840000gp/T/ipykernel_18969/2817245518.py\u001b[0m(11)\u001b[0;36mexpected_variance\u001b[0;34m()\u001b[0m\n",
      "\u001b[0;32m      9 \u001b[0;31m    \u001b[0;31m#print(wlambda,np.sum(wlambda))\u001b[0m\u001b[0;34m\u001b[0m\u001b[0;34m\u001b[0m\u001b[0m\n",
      "\u001b[0m\u001b[0;32m     10 \u001b[0;31m    \u001b[0;31m#print(varfunc(lambdas[nonzero_locs])*(wlambda/nsamps[nonzero_locs]))\u001b[0m\u001b[0;34m\u001b[0m\u001b[0;34m\u001b[0m\u001b[0m\n",
      "\u001b[0m\u001b[0;32m---> 11 \u001b[0;31m    \u001b[0mvals\u001b[0m \u001b[0;34m=\u001b[0m \u001b[0mvarfunc\u001b[0m\u001b[0;34m(\u001b[0m\u001b[0mlambdas\u001b[0m\u001b[0;34m[\u001b[0m\u001b[0mnonzero_locs\u001b[0m\u001b[0;34m]\u001b[0m\u001b[0;34m)\u001b[0m\u001b[0;34m*\u001b[0m\u001b[0;34m(\u001b[0m\u001b[0mwlambda\u001b[0m\u001b[0;34m**\u001b[0m\u001b[0;36m2\u001b[0m\u001b[0;34m/\u001b[0m\u001b[0mnsamps\u001b[0m\u001b[0;34m[\u001b[0m\u001b[0mnonzero_locs\u001b[0m\u001b[0;34m]\u001b[0m\u001b[0;34m)\u001b[0m\u001b[0;34m\u001b[0m\u001b[0;34m\u001b[0m\u001b[0m\n",
      "\u001b[0m\u001b[0;32m     12 \u001b[0;31m    \u001b[0mvsum\u001b[0m \u001b[0;34m=\u001b[0m \u001b[0mnp\u001b[0m\u001b[0;34m.\u001b[0m\u001b[0msum\u001b[0m\u001b[0;34m(\u001b[0m\u001b[0mvals\u001b[0m\u001b[0;34m)\u001b[0m\u001b[0;34m\u001b[0m\u001b[0;34m\u001b[0m\u001b[0m\n",
      "\u001b[0m\u001b[0;32m     13 \u001b[0;31m    \u001b[0;32mif\u001b[0m \u001b[0mcomponents\u001b[0m\u001b[0;34m==\u001b[0m\u001b[0;32mFalse\u001b[0m\u001b[0;34m:\u001b[0m\u001b[0;34m\u001b[0m\u001b[0;34m\u001b[0m\u001b[0m\n",
      "\u001b[0m\n"
     ]
    },
    {
     "name": "stdin",
     "output_type": "stream",
     "text": [
      "ipdb>  n\n"
     ]
    },
    {
     "name": "stdout",
     "output_type": "stream",
     "text": [
      "> \u001b[0;32m/var/folders/4v/g0zjp6c95535931grpmdq5840000gp/T/ipykernel_18969/2817245518.py\u001b[0m(12)\u001b[0;36mexpected_variance\u001b[0;34m()\u001b[0m\n",
      "\u001b[0;32m     10 \u001b[0;31m    \u001b[0;31m#print(varfunc(lambdas[nonzero_locs])*(wlambda/nsamps[nonzero_locs]))\u001b[0m\u001b[0;34m\u001b[0m\u001b[0;34m\u001b[0m\u001b[0m\n",
      "\u001b[0m\u001b[0;32m     11 \u001b[0;31m    \u001b[0mvals\u001b[0m \u001b[0;34m=\u001b[0m \u001b[0mvarfunc\u001b[0m\u001b[0;34m(\u001b[0m\u001b[0mlambdas\u001b[0m\u001b[0;34m[\u001b[0m\u001b[0mnonzero_locs\u001b[0m\u001b[0;34m]\u001b[0m\u001b[0;34m)\u001b[0m\u001b[0;34m*\u001b[0m\u001b[0;34m(\u001b[0m\u001b[0mwlambda\u001b[0m\u001b[0;34m**\u001b[0m\u001b[0;36m2\u001b[0m\u001b[0;34m/\u001b[0m\u001b[0mnsamps\u001b[0m\u001b[0;34m[\u001b[0m\u001b[0mnonzero_locs\u001b[0m\u001b[0;34m]\u001b[0m\u001b[0;34m)\u001b[0m\u001b[0;34m\u001b[0m\u001b[0;34m\u001b[0m\u001b[0m\n",
      "\u001b[0m\u001b[0;32m---> 12 \u001b[0;31m    \u001b[0mvsum\u001b[0m \u001b[0;34m=\u001b[0m \u001b[0mnp\u001b[0m\u001b[0;34m.\u001b[0m\u001b[0msum\u001b[0m\u001b[0;34m(\u001b[0m\u001b[0mvals\u001b[0m\u001b[0;34m)\u001b[0m\u001b[0;34m\u001b[0m\u001b[0;34m\u001b[0m\u001b[0m\n",
      "\u001b[0m\u001b[0;32m     13 \u001b[0;31m    \u001b[0;32mif\u001b[0m \u001b[0mcomponents\u001b[0m\u001b[0;34m==\u001b[0m\u001b[0;32mFalse\u001b[0m\u001b[0;34m:\u001b[0m\u001b[0;34m\u001b[0m\u001b[0;34m\u001b[0m\u001b[0m\n",
      "\u001b[0m\u001b[0;32m     14 \u001b[0;31m        \u001b[0;32mreturn\u001b[0m \u001b[0mvsum\u001b[0m\u001b[0;34m\u001b[0m\u001b[0;34m\u001b[0m\u001b[0m\n",
      "\u001b[0m\n"
     ]
    },
    {
     "name": "stdin",
     "output_type": "stream",
     "text": [
      "ipdb>  p vals\n"
     ]
    },
    {
     "name": "stdout",
     "output_type": "stream",
     "text": [
      "array([2.50000000e-07, 4.00000000e-06, 9.00000000e-06, 1.60000000e-05,\n",
      "       1.40625000e-05, 1.14633092e-05, 1.60000000e-05, 1.74898158e-05,\n",
      "       2.50000000e-05, 2.89495536e-05, 1.44780179e-05, 1.60000000e-05,\n",
      "       1.07955312e-05, 1.07622143e-05, 2.28446016e-05, 2.75625000e-05,\n",
      "       2.81981257e-05, 1.11959229e-05, 1.80000000e-05, 9.00000000e-06])\n"
     ]
    }
   ],
   "source": [
    "numruns = 10\n",
    "runlocs = np.zeros(numruns)\n",
    "runmins = np.zeros(numruns)\n",
    "for i in range(numruns):\n",
    "    expect_current = expected_variance(nsamps=nall,lambdas=lamall,varfunc=fit_var)\n",
    "    min_i = 0\n",
    "    min_trial = expect_current\n",
    "    for j in range(ntotal):\n",
    "        ntrial = nall.copy()\n",
    "        ntrial[j] += ninit\n",
    "        # if we add more samples here, how much does it improve the uncertainty\n",
    "        expect_trial = expected_variance(nsamps=ntrial,lambdas=lamall, varfunc=fit_var)\n",
    "        #print(i,j,expect_trial)\n",
    "        if expect_trial < min_trial:   # OK, this currently the lowest point\n",
    "            min_j = j\n",
    "            min_trial = expect_trial\n",
    "    # OK we have found the location the minimizes the next place. Change nall\n",
    "    nall[min_j] += ninit\n",
    "    runlocs[i] = min_j\n",
    "    runmins[i] = min_trial"
   ]
  },
  {
   "cell_type": "markdown",
   "id": "0e656f12-a669-4ab5-bd98-1f02d65de8f4",
   "metadata": {},
   "source": [
    "New locations:"
   ]
  },
  {
   "cell_type": "code",
   "execution_count": 258,
   "id": "d1f32c7f-647d-433d-a7bd-933e1a163c8b",
   "metadata": {},
   "outputs": [
    {
     "data": {
      "text/plain": [
       "['__call__',\n",
       " '__class__',\n",
       " '__delattr__',\n",
       " '__dict__',\n",
       " '__dir__',\n",
       " '__doc__',\n",
       " '__eq__',\n",
       " '__format__',\n",
       " '__ge__',\n",
       " '__getattribute__',\n",
       " '__getstate__',\n",
       " '__gt__',\n",
       " '__hash__',\n",
       " '__init__',\n",
       " '__init_subclass__',\n",
       " '__le__',\n",
       " '__lt__',\n",
       " '__module__',\n",
       " '__ne__',\n",
       " '__new__',\n",
       " '__reduce__',\n",
       " '__reduce_ex__',\n",
       " '__repr__',\n",
       " '__setattr__',\n",
       " '__sizeof__',\n",
       " '__slots__',\n",
       " '__str__',\n",
       " '__subclasshook__',\n",
       " '__weakref__',\n",
       " '_ensure_c_contiguous',\n",
       " '_evaluate',\n",
       " '_get_dtype',\n",
       " '_validate_bc',\n",
       " 'antiderivative',\n",
       " 'axis',\n",
       " 'c',\n",
       " 'construct_fast',\n",
       " 'derivative',\n",
       " 'extend',\n",
       " 'extrapolate',\n",
       " 'from_bernstein_basis',\n",
       " 'from_spline',\n",
       " 'integrate',\n",
       " 'roots',\n",
       " 'solve',\n",
       " 'x']"
      ]
     },
     "execution_count": 258,
     "metadata": {},
     "output_type": "execute_result"
    }
   ],
   "source": [
    "fit_var(nsamps=ntrial,lambdas=lamall"
   ]
  },
  {
   "cell_type": "code",
   "execution_count": 256,
   "id": "8c5f4e7b-f9de-431f-b2f5-5ad67c656999",
   "metadata": {},
   "outputs": [
    {
     "data": {
      "text/plain": [
       "array([74., 84., 65., 55., 77., 88., 68., 45., 73., 90.])"
      ]
     },
     "execution_count": 256,
     "metadata": {},
     "output_type": "execute_result"
    }
   ],
   "source": [
    "runlocs"
   ]
  },
  {
   "cell_type": "markdown",
   "id": "1710b433-743c-4916-8e18-4d8549b5ae58",
   "metadata": {},
   "source": [
    "What the variance decreases to after each addition:"
   ]
  },
  {
   "cell_type": "code",
   "execution_count": 28,
   "id": "eea12c0c-8e6f-4fac-95e3-d9f9164ecbd6",
   "metadata": {},
   "outputs": [
    {
     "data": {
      "text/plain": [
       "array([0.00066395, 0.00058426, 0.00051215, 0.00047039, 0.00043024,\n",
       "       0.00039757, 0.00036697, 0.00034749, 0.00032905, 0.00031105])"
      ]
     },
     "execution_count": 28,
     "metadata": {},
     "output_type": "execute_result"
    }
   ],
   "source": [
    "runmins"
   ]
  },
  {
   "cell_type": "markdown",
   "id": "ca27cc61-40c2-43e8-9d07-6d3acbbfead2",
   "metadata": {},
   "source": [
    "Where the new data gets put:"
   ]
  },
  {
   "cell_type": "code",
   "execution_count": 29,
   "id": "66e28ea7-e2e8-4226-9796-a8122b24785c",
   "metadata": {},
   "outputs": [
    {
     "data": {
      "text/plain": [
       "array([10000.,     0.,     0.,     0.,     0.,     0.,     0.,     0.,\n",
       "           0.,     0., 10000.,     0.,     0.,     0.,     0.,     0.,\n",
       "           0.,     0.,     0.,     0., 10000.,     0.,     0.,     0.,\n",
       "           0.,     0.,     0.,     0.,     0.,     0., 10000.,     0.,\n",
       "           0.,     0.,     0.,     0.,     0.,     0.,     0.,     0.,\n",
       "       10000.,     0.,     0.,     0.,     0., 10000.,     0.,     0.,\n",
       "           0.,     0., 10000.,     0.,     0.,     0.,     0., 10000.,\n",
       "           0.,     0.,     0.,     0., 10000.,     0.,     0.,     0.,\n",
       "           0., 10000.,     0.,     0., 10000.,     0., 10000.,     0.,\n",
       "           0., 10000., 10000.,     0.,     0., 10000.,     0.,     0.,\n",
       "       10000.,     0.,     0.,     0., 10000.,     0.,     0.,     0.,\n",
       "       10000.,     0., 20000.,     0.,     0.,     0.,     0.,     0.,\n",
       "           0.,     0.,     0.,     0., 10000.])"
      ]
     },
     "execution_count": 29,
     "metadata": {},
     "output_type": "execute_result"
    }
   ],
   "source": [
    "nall"
   ]
  },
  {
   "cell_type": "markdown",
   "id": "53491a60-3914-4ba3-949b-1ce3fb046701",
   "metadata": {},
   "source": [
    "New variance"
   ]
  },
  {
   "cell_type": "code",
   "execution_count": 30,
   "id": "21ee2489-5453-4150-b8d8-aff95648e74d",
   "metadata": {},
   "outputs": [
    {
     "data": {
      "image/png": "[encoded data removed]",
      "text/plain": [
       "<Figure size 640x480 with 1 Axes>"
      ]
     },
     "metadata": {},
     "output_type": "display_data"
    }
   ],
   "source": [
    "#contribution to the uncertainty at each point after adding data.\n",
    "total,vals = expected_variance(nsamps=nall,lambdas=lamall,varfunc=fit_var,components=True)\n",
    "plt.plot(lamall[nall!=0],vals)\n",
    "plt.show()"
   ]
  },
  {
   "cell_type": "markdown",
   "id": "8e38c1a0-a303-4b01-8a49-46d294d59a52",
   "metadata": {},
   "source": [
    "OK, now let's take a look if we just have uncertainties for the $\\Delta G$. I think we have to just back-calculate the uncertainty at each $\\lambda$, starting from the equations in alchemlyb."
   ]
  },
  {
   "cell_type": "markdown",
   "id": "7affa6b2-5767-4911-af7a-5a50461da78b",
   "metadata": {},
   "source": [
    "The uncertainties to use as inputs here are the off-diagonal elements in `ti.d_delta_f_` (i.e. the ones that are one diagonal up or down the main diagonal - the entries are equal.  These are the results from the sample data."
   ]
  },
  {
   "cell_type": "code",
   "execution_count": 155,
   "id": "f0aac999-5145-493c-b9c2-a5000bbadeda",
   "metadata": {},
   "outputs": [],
   "source": [
    "derrors_ti = np.array([0.066711, 0.053982, 0.067663, 0.106295, 0.1195130, 0.126304, 0.329933, 0.468135, 0.367503, 0.134171])"
   ]
  },
  {
   "cell_type": "markdown",
   "id": "7156a9dd-050a-42ef-aa67-ae967bc78cd9",
   "metadata": {},
   "source": [
    "Then we need to solve for the uncertainties at each point. "
   ]
  },
  {
   "cell_type": "markdown",
   "id": "a250aef0-889a-484a-aab3-c9bcf1eb6c3f",
   "metadata": {},
   "source": [
    "These are the uncertainties between states for MBAR, though they are not really the same.  They should be roughly similar, so I'm actually not sure why they are so different.  Perhaps not enough data?   I'm extractin them as \n",
    "`mbar.d_delta_f_[0.0][0,1]`,`mbar.d_delta_f_[0.1][0.2]`, etc."
   ]
  },
  {
   "cell_type": "code",
   "execution_count": 189,
   "id": "b335b26c-66d8-4669-9dd4-2384ada38e53",
   "metadata": {},
   "outputs": [],
   "source": [
    "derrors_mbar = np.array([0.229604, 0.185374, 0.156106, 0.3097456, 0.293402, 0.407582, 0.292766, 0.299239, 0.135209, 0.055202])"
   ]
  },
  {
   "cell_type": "code",
   "execution_count": 201,
   "id": "147aa5db-0aef-44f8-88a3-38905fceddbd",
   "metadata": {},
   "outputs": [],
   "source": [
    "derrors = derrors_mbar"
   ]
  },
  {
   "cell_type": "code",
   "execution_count": 202,
   "id": "e8793bbe-2d67-4e19-9603-2c4f42a031cb",
   "metadata": {},
   "outputs": [],
   "source": [
    "nlam = 11\n",
    "lambdas = np.linspace(0,1,nlam) # initial lambdas\n",
    "dlambda = np.diff(lambdas)\n",
    "dlambda *= 0.5\n",
    "dlambda = dlambda**2"
   ]
  },
  {
   "cell_type": "code",
   "execution_count": 259,
   "id": "569e2db6-8489-4e21-96bb-bf60f2a4f0a4",
   "metadata": {},
   "outputs": [],
   "source": []
  },
  {
   "cell_type": "code",
   "execution_count": 242,
   "id": "a9cd4a34-6cb8-4309-8388-f8ea7cd86858",
   "metadata": {},
   "outputs": [
    {
     "name": "stdout",
     "output_type": "stream",
     "text": [
      "[ 10.54359936  10.54359936   3.20180859   6.54582471  31.83110998\n",
      "   2.60278346  63.84645123 -29.56167893  65.37927057 -58.0666811\n",
      "  59.28558542]\n",
      "[[0.0025 0.0025 0.     0.     0.     0.     0.     0.     0.     0.\n",
      "  0.    ]\n",
      " [0.     0.0025 0.0025 0.     0.     0.     0.     0.     0.     0.\n",
      "  0.    ]\n",
      " [0.     0.     0.0025 0.0025 0.     0.     0.     0.     0.     0.\n",
      "  0.    ]\n",
      " [0.     0.     0.     0.0025 0.0025 0.     0.     0.     0.     0.\n",
      "  0.    ]\n",
      " [0.     0.     0.     0.     0.0025 0.0025 0.     0.     0.     0.\n",
      "  0.    ]\n",
      " [0.     0.     0.     0.     0.     0.0025 0.0025 0.     0.     0.\n",
      "  0.    ]\n",
      " [0.     0.     0.     0.     0.     0.     0.0025 0.0025 0.     0.\n",
      "  0.    ]\n",
      " [0.     0.     0.     0.     0.     0.     0.     0.0025 0.0025 0.\n",
      "  0.    ]\n",
      " [0.     0.     0.     0.     0.     0.     0.     0.     0.0025 0.0025\n",
      "  0.    ]\n",
      " [0.     0.     0.     0.     0.     0.     0.     0.     0.     0.0025\n",
      "  0.0025]\n",
      " [1.     0.     0.     0.     0.     0.     0.     0.     0.     0.\n",
      "  0.    ]]\n",
      "[5.27179968e-02 3.43635199e-02 2.43690832e-02 9.59423367e-02\n",
      " 8.60847336e-02 1.66123087e-01 8.57119308e-02 8.95439791e-02\n",
      " 1.82814737e-02 3.04726080e-03 1.05435994e+01]\n"
     ]
    }
   ],
   "source": [
    "A = np.zeros([nlam,nlam])\n",
    "B = np.zeros([nlam])\n",
    "B[:-1] = derrors**2\n",
    "for i in range(nlam-1):\n",
    "    for j in range(np.max([0,i]),np.min([i+2,nlam])):\n",
    "        A[i,j] = dlambda[j-1]\n",
    "A[nlam-1,0] = 1 \n",
    "# this is a kludge, just saying that over the first two points, the variance is equal\n",
    "B[-1] = (derrors[0]**2)/(2*dlambda[0])\n",
    "print(np.linalg.solve(A,B))\n",
    "#new_stdev = np.sqrt(np.linalg.solve(A,B))\n",
    "print(A)\n",
    "print(B)"
   ]
  },
  {
   "cell_type": "code",
   "execution_count": 197,
   "id": "f871b0b9-6e56-434f-bee1-b9811bab9b9e",
   "metadata": {},
   "outputs": [
    {
     "name": "stdout",
     "output_type": "stream",
     "text": [
      "[0.94343601 0.94343601 0.52492954 1.24730173 1.72153687 1.65820797\n",
      " 1.90563021 6.31750641 6.91008423 2.50481896 0.96261357]\n"
     ]
    }
   ],
   "source": [
    "print(new_stdev)"
   ]
  },
  {
   "cell_type": "code",
   "execution_count": 239,
   "id": "e8a5157d-d5f9-4740-8755-d931a6a8b388",
   "metadata": {},
   "outputs": [],
   "source": [
    "errs = np.linspace(-50,10,10000)"
   ]
  },
  {
   "cell_type": "code",
   "execution_count": 240,
   "id": "d7333040-cb4f-4844-81c7-497563d343e0",
   "metadata": {},
   "outputs": [],
   "source": [
    "mins = np.zeros(10000)\n",
    "for i,e in enumerate(errs):\n",
    "    B[-1] = e\n",
    "    mins[i] = np.min(np.linalg.solve(A,B))"
   ]
  },
  {
   "cell_type": "code",
   "execution_count": 241,
   "id": "5d81074a-5981-4441-bdd7-18c81085eadf",
   "metadata": {},
   "outputs": [
    {
     "data": {
      "text/plain": [
       "[<matplotlib.lines.Line2D at 0x15ec54800>]"
      ]
     },
     "execution_count": 241,
     "metadata": {},
     "output_type": "execute_result"
    },
    {
     "data": {
      "image/png": "[encoded data removed]",
      "text/plain": [
       "<Figure size 640x480 with 1 Axes>"
      ]
     },
     "metadata": {},
     "output_type": "display_data"
    }
   ],
   "source": [
    "plt.plot(errs,mins)"
   ]
  },
  {
   "cell_type": "code",
   "execution_count": null,
   "id": "f8b98fc4-a5c5-4763-970d-abbde7bfd9ea",
   "metadata": {},
   "outputs": [],
   "source": []
  }
 ],
 "metadata": {
  "kernelspec": {
   "display_name": "Python 3 (ipykernel)",
   "language": "python",
   "name": "python3"
  },
  "language_info": {
   "codemirror_mode": {
    "name": "ipython",
    "version": 3
   },
   "file_extension": ".py",
   "mimetype": "text/x-python",
   "name": "python",
   "nbconvert_exporter": "python",
   "pygments_lexer": "ipython3",
   "version": "3.12.2"
  }
 },
 "nbformat": 4,
 "nbformat_minor": 5
}
